{
 "cells": [
  {
   "cell_type": "code",
   "execution_count": 44,
   "metadata": {},
   "outputs": [],
   "source": [
    "from bs4 import BeautifulSoup\n",
    "import requests\n",
    "import re\n",
    "links = []\n",
    "url = 'https://www.dmo.gov.uk/publications/?offset=0&itemsPerPage=1000000000&parentFilter=1433&childFilter=1433|1450&startMonth=1&startYear=2000&endMonth=6&endYear=2021'\n",
    "req = requests.get(url)\n",
    "soup = BeautifulSoup(req.text, \"lxml\")\n",
    "for a in soup.find_all(\"a\",{\"aria-label\":re.compile(r\"^Auction of\\b\")}, href=True):\n",
    "    links.append(a['href'])\n",
    "    "
   ]
  },
  {
   "cell_type": "code",
   "execution_count": 45,
   "metadata": {},
   "outputs": [],
   "source": [
    "def download_file(url):\n",
    "    path = url.split('/')[-1].split('?')[0]\n",
    "    r = requests.get(url, stream=True)\n",
    "    if r.status_code == 200:\n",
    "        with open(path, 'wb') as f:\n",
    "            for chunk in r:\n",
    "                f.write(chunk)\n",
    "\n",
    "host = 'https://www.dmo.gov.uk/'\n",
    "\n",
    "for link in links:\n",
    "    url = host + link\n",
    "    download_file(url)\n"
   ]
  }
 ],
 "metadata": {
  "kernelspec": {
   "display_name": "Python 3",
   "language": "python",
   "name": "python3"
  },
  "language_info": {
   "codemirror_mode": {
    "name": "ipython",
    "version": 3
   },
   "file_extension": ".py",
   "mimetype": "text/x-python",
   "name": "python",
   "nbconvert_exporter": "python",
   "pygments_lexer": "ipython3",
   "version": "3.8.3"
  }
 },
 "nbformat": 4,
 "nbformat_minor": 4
}
